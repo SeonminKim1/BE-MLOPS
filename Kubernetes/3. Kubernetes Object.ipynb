{
 "cells": [
  {
   "cell_type": "markdown",
   "id": "2c87bc98",
   "metadata": {},
   "source": [
    "## 3. Object\n",
    "- 가장 기본적인 구성단위로  커맨드 인자나, yaml 스펙 정의의 표준\n",
    "- 파드(pod), 서비스(service), 네임스페이스(namespace), 볼륨(volume) 등\n",
    "\n",
    "<hr>"
   ]
  },
  {
   "cell_type": "markdown",
   "id": "6766d959",
   "metadata": {},
   "source": [
    "### 3.1.파드\n",
    "- 쿠버네티스의 가장 기본적인 배포 단위\n",
    "- 쿠버네틱스에서 단위를 파드로 사용하는 이유\n",
    "    - **여러 리눅스 네임스페이스(namespace)를 공유하는 여러 컨테이너들을 추상화된 집합으로 사용하기 위해서**\n",
    "    - 컨테이너 묶음에 대한 추상화를 가지기 위함이며, 부가적으로 정의된 컨테이너를 사이드카(sidecar)컨테이너라고 부름\n",
    "    - ex) 특정 컨테이너의 설정 파일의 변경사항을 갱신해주는 설정 리로더(reloader) 프로세스 컨테이너, 로그 수집 컨테이너 등을 같이 실해오디게 할 수 있음\n",
    "- 파드는 생성 후, 외부에서 접근할 수 있도록 노출된 상태는 아님. \n",
    "\n",
    "![kubernetes_pod](img/kubernetes_pod.png)"
   ]
  },
  {
   "cell_type": "markdown",
   "id": "fc430cc6",
   "metadata": {},
   "source": [
    "### 3.2 서비스 \n",
    "- 여러개의 Pod와 볼륨을 이용하여 컨테이너 정의 및 서비스로 제공\n",
    "- 라벨 셀럭터리를 통한 특정 라벨을 가지고 있는 Pod선택하여 서비스로 묶음\n",
    "\n",
    "- 쿠버네틱스 내부에서 실행한 컨테이너를 외부에서 접근하기 위한 수단\n",
    "    - 주로 네트워크와 관련된 오브젝트로 Pod를 외부 네트워크와 연결\n",
    "    - 여러 개의 Pod를 바라보는 내부 로드 밸런서를 생성시 사용.\n",
    "    - 종류 : ClusterIP, NodePort, LoadBalancer, ExternalName\n",
    "\n",
    "<hr>\n"
   ]
  },
  {
   "cell_type": "markdown",
   "id": "283e2097",
   "metadata": {},
   "source": [
    "\n",
    "### 3.3 네임스페이스\n",
    "\n",
    "![kubernetes_namespace](img/kubernetes_namespace.png)\n",
    "- 클러스터 내의 논리적인 분리 단위, api를 여러개 있는 것 처럼 하는 것\n",
    "- Pod나 Service등이 네임 스페이스 별로 생성 이나 관리 사용자 권한 부여 가능\n",
    "    - ex) 하나의 결제 프로그램을 홈쇼핑용, 백화점용, 면세점용으로 나눠서 쓰는 것\n",
    "- 장점\n",
    "    - 해당 Namespace에서만 사용되는 파드 정보나 디버깅등을 확인할 수 있어 관리하기가 매우 편함\n",
    "\n",
    "- 만드는 방법\n",
    "    - 1) CLI 기반 생성 : kubectl create namespace [name]\n",
    "    - 2) yaml : kubectl create -f [name].yaml\n",
    "- 예제\n",
    "    - ex) 해당 namespace에서 nginx를 실행시키는 방법 2가지\n",
    "        - kubectl create -f nginx.yaml -namespace blue\n",
    "        - nginx.yaml을 -namespace : blue라고 넣어놓기.\n",
    "\n",
    "- namespace를 삭제하면 모든 내부 구성이 삭제됨.\n",
    "\n",
    "<hr>\n"
   ]
  },
  {
   "cell_type": "markdown",
   "id": "06707b53",
   "metadata": {},
   "source": [
    "### 3.4 yaml 파일\n",
    "- apiVersion : YAML 파일에서 정의한 오브젝트의 API 버전\n",
    "- Kind : 리소스의 종류 (pod, deployment, service 등)\n",
    "- metadata : 라벨, 주석(annotation) 등\n",
    "- spec : 리소스를 생성하기 위한 정보 (오브젝트에 대한 정보)\n",
    "- ---를 이용해 하나의 yaml 파일에 여러 개의 리소스 정의 가능\n",
    "\n",
    "<hr>"
   ]
  },
  {
   "cell_type": "markdown",
   "id": "e34196e6",
   "metadata": {},
   "source": [
    "### 3.5 포드 관리\n",
    "- 포드만 yaml 파일에 정의해 사용시, 한계점이 존재하며, 레플리카셋 오브젝트를 같이 사용하는게 일반적\n",
    "- 정해진 수의 동일한 포드가 항상 실행되도록 관리\n",
    "- 노드 장애 등의 이유로 포드 사용 불가시 다른 노드에서 포드 재 생성\n"
   ]
  },
  {
   "cell_type": "code",
   "execution_count": null,
   "id": "ce973efa",
   "metadata": {},
   "outputs": [],
   "source": []
  }
 ],
 "metadata": {
  "kernelspec": {
   "display_name": "Python 3",
   "language": "python",
   "name": "python3"
  },
  "language_info": {
   "codemirror_mode": {
    "name": "ipython",
    "version": 3
   },
   "file_extension": ".py",
   "mimetype": "text/x-python",
   "name": "python",
   "nbconvert_exporter": "python",
   "pygments_lexer": "ipython3",
   "version": "3.8.5"
  }
 },
 "nbformat": 4,
 "nbformat_minor": 5
}
