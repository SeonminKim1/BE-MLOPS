{
 "cells": [
  {
   "cell_type": "markdown",
   "id": "707dd14e",
   "metadata": {},
   "source": [
    "# 4. Kubectl\n",
    "- Kubectl은 쿠버네티스 클러스터를 제어하기 위한 커맨드 라인 도구\n",
    "- 운영 체제별 클러스터 외부의 사용자 컴퓨터에 kubectl을 설치 가능.\n",
    "\n",
    "## 4.1 기능 및 특징\n",
    "- 기능\n",
    "    - (1) 쿠버네틱스 자원들의 생성, 업데이트, 삭제 (create, update, delete)\n",
    "    - (2) 디버그 모니터링, 트러블 슈팅 (log, exec, cp, top, attach)\n",
    "    - (3) 클러스터 관리 (cordon, top, drain, taint 등\n",
    "\n",
    "- 특징\n",
    "    - POSIX, GNU 스타일의 명령 작성 규칙\n",
    "        - 단일 알파벳 옵션, 긴 알파벳 옵션\n",
    "        - ex) -n , --namespace : 네임스페이스 지정 / -c, --container : 특정 컨테이너 지정 \n",
    "    - kubeconfig\n",
    "        - kubectl은 기본적으로 HOME/.kube/config 파일에서 (클러스터, 인증, 컨텍스트)정보 등을 읽어들임\n",
    "        - 이러한 구성정보를 kubeconfig라고 칭하며, 다중 클러스터/인증권한 등에서 사용\n"
   ]
  },
  {
   "cell_type": "markdown",
   "id": "aa66795e",
   "metadata": {},
   "source": [
    "<hr>\n",
    "\n",
    "## 4.2 kubectl 형식\n",
    "- kubectl [command] [type] [name] [flags]\n",
    "    - command : 자원에 실행하려는 동작 (create, get, delete)\n",
    "    - type : 자원 타입 (pod, service, ingress 등)\n",
    "    - name : 자원 이름\n",
    "    - flags : 부가적으로 설정할 옵션  ex) -s, --server\n",
    "\n"
   ]
  },
  {
   "cell_type": "markdown",
   "id": "81f42962",
   "metadata": {},
   "source": [
    "<hr>\n",
    "\n",
    "## 4.3 kubectl 명령어\n",
    "### 4.3.1 정보 검색 관련 명령어\n",
    "- kubectl api-resources : 사용 가능한 API 리소스 나열 (약어 정보 등)\n",
    "- kubectl cluster-info : 클러스터의 마스터와 서비스에 대한 엔드포인트 정보를 표시\n",
    "- kubectl describe : 하나 이상의 리소스의 자세한 상태를 표시\n",
    "- kubectl get : 선택된 리소스의 정보 리스트를 확인\n",
    "- kubectl logs POD : 선택한 POD 의 Logs 확인\n",
    "- kubectl explain : 리소스(pod, node, service)에 대한 documentation 확인\n",
    "\n",
    "### 4.3.2 동작 관련 명령어\n",
    "- kubectl create : 파일이나, 명령어 입력을 통해 리소스 생성\n",
    "- kubectl apply : 해당 resource의 구성 사항 .yaml 기반 생성  \n",
    "- kubectl expose : 레플리케이션 컨트롤러/서비스/파드를 쿠버네티스 서비스로 노출\n",
    "- kubectl run : 클러스터내 특정 이미지 run\n",
    "- kubectl delete : 리소스를 삭제\n",
    "- kubectl attach (pod 내 컨테이너) : 실행 중인 컨테이너에 접속\n",
    "- kubectl exec (pod) : 해당 pod의 컨테이너에 명령어 실행\n",
    "- kubectl patch : 리소스의 일부 attribute를 수정, 적용\n",
    "\n",
    "### 4.3.3 설정 변경 관련 명령어\n",
    "- kubectl set : 생성된 파드의 이미지 변경 명령어\n",
    "- kubectl edit : 동작중인 api-resources 수정시 사용\n",
    "- kubectl scale : 레플리케이션 컨트롤러의 관리하는 파드 집합 자동 조정\n",
    "- kubectl port-forward : port-forwarding 관련 명령어\n",
    "- kubectl proxy : 쿠버네틱스 내 프록시 설정\n",
    "\n",
    "<hr>"
   ]
  },
  {
   "cell_type": "markdown",
   "id": "a988cd9e",
   "metadata": {},
   "source": [
    "## 4.4 kubectl get 명령어\n",
    "### 4.4.1. kubectl get pod \n",
    "![kubernetes_getpods](img/kubernetes_getpods.png)\n",
    "- name (파드 이름)\n",
    "- READY(파드의 준비상태)\n",
    "    - 0/1 : 파드는 생성 됬으나 사용 준비x\n",
    "    - 1/1 : 파드 생성 및 준비 완료\n",
    "- STATUS(파드 상태)\n",
    "- Running (실행 중), Terminating, Container Creating \n",
    "- RESTARTS(재시작횟수)\n",
    "- AGE(파드 생성 후 경과 시간)\n",
    "\n",
    "### 4.4.2. kubectl get service\n",
    "![kubernetes_getservice](img/kubernetes_getservice.png)\n",
    "- name(서비스 이름)\n",
    "- type(서비스 타입)\n",
    "- cluster-ip (클러스터 내 IP)\n",
    "- external-ip(클러스터 외부에서 접속시 사용되는 ip)\n",
    "- ports(해당 서비스 접속 port)\n",
    "- age(자원 생성 후 지난 시간)\n",
    "\n",
    "### 4.4.3. kubectl get deployments\n",
    "![kubernetes_getdeployment](img/kubernetes_getdeployment.png)\n",
    "\n",
    "- NAME : 클러스터에 배포한 디플로이먼트 이름\n",
    "- READY : 사용자가 최종 배포한 파드 개수와 현재 클러스터에 동작중인 파드 갯수\n",
    "- UP-TO-DATE : 디플로이먼트 설정에 정의한 신규 파드 갯수\n",
    "- AVAILABLE : 서비스 가능한 파드 갯수\n",
    "- AGE : 디플로이먼트 생성 후 지난 시간\n",
    "\n",
    "### 4.4.4. kubectl get nodes\n",
    "![kubectl_getnode](img/kubectl_getnode.png)\n",
    "    \n",
    "### 4.4.5. kubectl get namespace\n",
    "![kubectl_getnamespace](img/kubectl_getnamespace.png)\n",
    "- kubernetes에서 기본적으로 생성되는 namespace\n",
    "- kube-system : 쿠버네티스 시스템에서 관리하는 namespace, 쿠버네티스 관리용 파드나 설정\n",
    "- kube-public : 클러스터 안 모든 사용자가 읽을 수 있는 네임스페이스\n",
    "- kube-node-leases : 각 노드의 임대 오브젝트들을 관리하는 네임스페이스\n",
    "\n",
    "<hr>\n"
   ]
  },
  {
   "cell_type": "markdown",
   "id": "c06c4e94",
   "metadata": {},
   "source": []
  }
 ],
 "metadata": {
  "kernelspec": {
   "display_name": "Python 3",
   "language": "python",
   "name": "python3"
  },
  "language_info": {
   "codemirror_mode": {
    "name": "ipython",
    "version": 3
   },
   "file_extension": ".py",
   "mimetype": "text/x-python",
   "name": "python",
   "nbconvert_exporter": "python",
   "pygments_lexer": "ipython3",
   "version": "3.8.5"
  }
 },
 "nbformat": 4,
 "nbformat_minor": 5
}
