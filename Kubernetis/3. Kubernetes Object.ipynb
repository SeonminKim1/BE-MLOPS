{
 "cells": [
  {
   "cell_type": "markdown",
   "id": "a25ff77f",
   "metadata": {},
   "source": [
    "# 3. Object\n",
    "- 쿠버네틱스의 기본 관리 : Object \n",
    "\n",
    "<hr>"
   ]
  },
  {
   "cell_type": "markdown",
   "id": "4ac643a5",
   "metadata": {},
   "source": [
    "\n",
    "## 3.1 오브젝트\n",
    "- 가장 기본적인 구성단위, 커맨드 인자나, yaml 스펙 정의\n",
    "- 파드(pod), 서비스(service), 네임스페이스(namespace), 볼륨(volume)\n",
    "\n",
    "### 3.1.1 파드\n",
    "- 쿠버네티스의 가장 기본적인 배포 단위\n",
    "\n",
    "![kubernetes_pod](img/kubernetes_pod.png)"
   ]
  },
  {
   "cell_type": "markdown",
   "id": "9e4c9c47",
   "metadata": {},
   "source": [
    "### 3.2 서비스 \n",
    "- 여러개의 Pod와 볼륨을 이용하여 컨테이너 정의 및 서비스로 제공\n",
    "- 라벨 셀럭터리를 통한 특정 라벨을 가지고 있는 Pod선택하여 서비스로 묶음\n",
    "\n",
    "- 쿠버네틱스 내부에서 실행한 컨테이너를 외부에서 접근하기 위한 수단\n",
    "    - 주로 네트워크와 관련된 오브젝트로 Pod를 외부 네트워크와 연결\n",
    "    - 여러 개의 Pod를 바라보는 내부 로드 밸런서를 생성시 사용.\n",
    "    - 종류 : ClusterIP, NodePort, LoadBalancer, ExternalName\n",
    "\n",
    "\n",
    "### 3.3 네임스페이스\n",
    "\n",
    "![kubernetes_namespace](img/kubernetes_namespace.png)\n",
    "- 클러스터 내의 논리적인 분리 단위, api를 여러개 있는 것 처럼 하는 것\n",
    "- Pod나 Service등이 네임 스페이스 별로 생성 이나 관리 사용자 권한 부여 가능\n",
    "    - ex) 하나의 결제 프로그램을 홈쇼핑용, 백화점용, 면세점용으로 나눠서 쓰는 것\n",
    "- 장점\n",
    "    - 해당 Namespace에서만 사용되는 파드 정보나 디버깅등을 확인할 수 있어 관리하기가 매우 편함\n",
    "\n",
    "- 만드는 방법\n",
    "    - 1) CLI 기반 생성 : kubectl create namespace [name]\n",
    "    - 2) yaml : kubectl create -f [name].yaml\n",
    "- 예제\n",
    "    - ex) 해당 namespace에서 nginx를 실행시키는 방법 2가지\n",
    "        - kubectl create -f nginx.yaml -namespace blue\n",
    "        - nginx.yaml을 -namespace : blue라고 넣어놓기.\n",
    "\n",
    "- namespace를 삭제하면 모든 내부 구성이 삭제됨.\n",
    "\n",
    "<hr>\n"
   ]
  }
 ],
 "metadata": {
  "kernelspec": {
   "display_name": "Python 3",
   "language": "python",
   "name": "python3"
  },
  "language_info": {
   "codemirror_mode": {
    "name": "ipython",
    "version": 3
   },
   "file_extension": ".py",
   "mimetype": "text/x-python",
   "name": "python",
   "nbconvert_exporter": "python",
   "pygments_lexer": "ipython3",
   "version": "3.8.5"
  }
 },
 "nbformat": 4,
 "nbformat_minor": 5
}
