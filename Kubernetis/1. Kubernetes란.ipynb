{
 "cells": [
  {
   "cell_type": "markdown",
   "id": "b9ec8223",
   "metadata": {},
   "source": [
    "## Kubernetes 란?\n",
    "\n",
    "![kubernetes](img/kubernetes.png)\n",
    "\n",
    "- **컨테이너 응용프로그램의 배포, 확장 및 관리를 자동화** 하기 위한 오픈 소스 플랫폼\n",
    "- **선언적 구성과 자동화**가 큰 특징\n",
    "    - '선언적’은 **컨테이너가 어떤 상태이길 원하는지만 정의**되면, 지속해서 **컨테이너의 상태를 해당 정의로 맞춤** \n",
    "    ex) Controller의 컴포넌트 갯수 보장\n",
    "<hr>"
   ]
  },
  {
   "cell_type": "markdown",
   "id": "c302f0c0",
   "metadata": {},
   "source": [
    "## Kubernetes 역할\n",
    "\n",
    "- **상태관리**\n",
    "    - 상태를 선언하고 선언한 상태를 유지\n",
    "    - 노드가 죽거나 컨테이너 응답이 없을 경우 자동으로 복구\n",
    "    - 자가 치유 (Self-healing) 실패한 컨테이너를 재시작 및 교체, 자동 복구\n",
    "- **스케줄링**\n",
    "    - 클러스터의 여러 노드 중 조건에 맞는 노드를 찾아 컨테이너를 배치\n",
    "- **클러스터**\n",
    "    - 가상 네트워크를 통해 하나의 서버에 있는 것처럼 통신\n",
    "- **부하 분산**\n",
    "    - 내부에서 DNS 이름 또는 자체 IP Address 사용\n",
    "    - 높은 Traffic에 대한 자동 로드 밸런싱 및 분산\n",
    "- **서비스 디스커버리**\n",
    "    - 서로 다른 서비스를 쉽게 찾고 통신할 수 있음\n",
    "- **리소스 모니터링**\n",
    "    - Kubelet의 cAdvisor를 통한 리소스 모니터링 가능\n",
    "- **Auto-스케일링**\n",
    "    - 배포 된 컨테이너의 상태를 원하는대로 변경 가능 (컨테이너 추가 및 삭제)\n",
    "    - 리소스에 따라 자동으로 서비스 규모 조정 가능\n",
    "- **RollOut/RollBack**\n",
    "    - 배포/롤백 및 버전 관리\n",
    "    \n",
    "<hr>"
   ]
  },
  {
   "cell_type": "markdown",
   "id": "68d16d16",
   "metadata": {},
   "source": [
    "## Kubernetes Basic Flow\n",
    "\n",
    "![kubernetes_flow](img/kubernetes_flow.png)\n",
    "\n",
    "1. 현재 개발하고 있는 환경에서 kubectl로 실행 요청 전달\n",
    "    - 이미지를 docker.hub 또는 사내 image 저장 스토리지에서 가져옴\n",
    "    - Kubectl create deploy web --image = docker.hub/nginx\n",
    "\n",
    "2. REST 형식의 Call이 Kubectl을 통해 넘어옴.\n",
    "    - kubectl issues rest call\n",
    "\n",
    "3. Master Node에서 API Server를 통해 요청을 받고, Node 생성\n",
    "    - 받은 정보를 통해 현재 가능한 Node를 Scheduler를 통해 찾음\n",
    "    - Scheduler는 각 Worker-node에 존재하는 Kubelet에게 컨테이너 실행 명령을 전달\n",
    "4. Worker Node는 kubelet 데몬을 통해 Docker Container 실행\n",
    "    - Kublet을 통해 요청 수신 및 Docker Container 실행\n",
    "    \n",
    "<hr>\n"
   ]
  },
  {
   "cell_type": "code",
   "execution_count": null,
   "id": "d50fa971",
   "metadata": {},
   "outputs": [],
   "source": []
  }
 ],
 "metadata": {
  "kernelspec": {
   "display_name": "Python 3",
   "language": "python",
   "name": "python3"
  },
  "language_info": {
   "codemirror_mode": {
    "name": "ipython",
    "version": 3
   },
   "file_extension": ".py",
   "mimetype": "text/x-python",
   "name": "python",
   "nbconvert_exporter": "python",
   "pygments_lexer": "ipython3",
   "version": "3.8.5"
  }
 },
 "nbformat": 4,
 "nbformat_minor": 5
}
