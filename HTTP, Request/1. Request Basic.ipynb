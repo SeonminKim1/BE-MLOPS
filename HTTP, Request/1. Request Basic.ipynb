{
 "cells": [
  {
   "cell_type": "code",
   "execution_count": 1,
   "metadata": {},
   "outputs": [
    {
     "name": "stdout",
     "output_type": "stream",
     "text": [
      "은평구 -99.0\n",
      "송파구 -99.0\n"
     ]
    }
   ],
   "source": [
    "import requests # requests 라이브러리 설치 필요\n",
    "\n",
    "r = requests.get('http://openapi.seoul.go.kr:8088/6d4d776b466c656533356a4b4b5872/json/RealtimeCityAir/1/99')\n",
    "rjson = r.json() # type dict\n",
    "\n",
    "# 모든 구의 IDEX_MVL 값을 찍어주자!\n",
    "for d in rjson['RealtimeCityAir']['row']:\n",
    "    # IDEX_MVL 값이 60 미만인 구만 찍어주자!\n",
    "    if d['IDEX_MVL'] < 60:\n",
    "        print(d['MSRSTE_NM'], d['IDEX_MVL'])"
   ]
  }
 ],
 "metadata": {
  "interpreter": {
   "hash": "addd9b989c499b16a5bc4b54c86abb1f12e90eb6082eff1495b1e5d1e997ee03"
  },
  "kernelspec": {
   "display_name": "Python 3.8.5 ('seonmin')",
   "language": "python",
   "name": "python3"
  },
  "language_info": {
   "codemirror_mode": {
    "name": "ipython",
    "version": 3
   },
   "file_extension": ".py",
   "mimetype": "text/x-python",
   "name": "python",
   "nbconvert_exporter": "python",
   "pygments_lexer": "ipython3",
   "version": "3.8.5"
  },
  "orig_nbformat": 4
 },
 "nbformat": 4,
 "nbformat_minor": 2
}
